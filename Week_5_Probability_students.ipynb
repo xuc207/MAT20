{
  "nbformat": 4,
  "nbformat_minor": 0,
  "metadata": {
    "colab": {
      "name": "Week 5_Probability_students",
      "provenance": [],
      "collapsed_sections": [],
      "authorship_tag": "ABX9TyPVaBzSURrAQZ4ospF2hWeB",
      "include_colab_link": true
    },
    "kernelspec": {
      "name": "python3",
      "display_name": "Python 3"
    },
    "language_info": {
      "name": "python"
    }
  },
  "cells": [
    {
      "cell_type": "markdown",
      "metadata": {
        "id": "view-in-github",
        "colab_type": "text"
      },
      "source": [
        "<a href=\"https://colab.research.google.com/github/xuc207/MAT20/blob/main/Week_5_Probability_students.ipynb\" target=\"_parent\"><img src=\"https://colab.research.google.com/assets/colab-badge.svg\" alt=\"Open In Colab\"/></a>"
      ]
    },
    {
      "cell_type": "code",
      "metadata": {
        "id": "7FRuN799e8UM"
      },
      "source": [
        "d = {(i, j): i + j for i in range (1, 7) for j in range (1, 7)} # associate all (a, b) pairs with their sum\n",
        "d"
      ],
      "execution_count": null,
      "outputs": []
    },
    {
      "cell_type": "code",
      "metadata": {
        "id": "AkwDph9r1hcw",
        "colab": {
          "base_uri": "https://localhost:8080/"
        },
        "outputId": "b72cf586-3a72-4ccf-e7cf-d98c6c665684"
      },
      "source": [
        "# Q: Toss two fair dice, what is the probablity that the sum of the dice equals seven?\n",
        "d = {(i, j): i + j for i in range (1, 7) for j in range (1, 7)} # associate all (a, b) pairs with their sum\n",
        "\n",
        "# collect all the (a, b) pairs and sum each of the possible values from two to twelve\n",
        "from collections import defaultdict #The defaultdic object from the collections module creates dictionaries with default values when it encounters a new key. Otherwise, we would have to create default values mannually for a regular dictionary. \n",
        "dinv = defaultdict(list)\n",
        "print(dinv)\n",
        "for i, j in d.items():    # i, j here represent the keys and values in dictionary d, which is different from i, j above\n",
        "  dinv[j].append(i)\n",
        "print(dinv[7])\n",
        "\n",
        "# calcualte probability for each of the sum\n",
        "X = {i:round(len(j)/36., 2) for i, j in dinv.items()}  # 36 is written with . to represent floating point division. \n",
        "print(X)"
      ],
      "execution_count": 1,
      "outputs": [
        {
          "output_type": "stream",
          "name": "stdout",
          "text": [
            "defaultdict(<class 'list'>, {})\n",
            "defaultdict(<class 'list'>, {})\n",
            "[(1, 6), (2, 5), (3, 4), (4, 3), (5, 2), (6, 1)]\n",
            "{2: 0.03, 3: 0.06, 4: 0.08, 5: 0.11, 6: 0.14, 7: 0.17, 8: 0.14, 9: 0.11, 10: 0.08, 11: 0.06, 12: 0.03}\n"
          ]
        }
      ]
    },
    {
      "cell_type": "code",
      "metadata": {
        "id": "awQKlZSBpS8-"
      },
      "source": [
        ""
      ],
      "execution_count": null,
      "outputs": []
    },
    {
      "cell_type": "code",
      "metadata": {
        "id": "SSjd9nIPjry6"
      },
      "source": [
        "# rewrite the code using df.groupby()-- See week 4's notes\n",
        "\n",
        "d = {(i, j): i + j for i in range (1, 7) for j in range (1, 7)}\n",
        "import pandas as pd\n",
        "# convert dictionary into a DataFrame\n",
        "df = pd.DataFrame(d.items(), columns=['Dice Numbers', 'Sum'])\n",
        "print(df)\n",
        "\n",
        "# use df.groupby to group data by sum (check week 4 notes)\n",
        "grp = df.groupby('Sum')\n",
        "grp.get_group(2)\n",
        "\n",
        "# calcualte probability for each of the sum\n",
        "X = {i:round(len(grp.get_group(i))/36., 2) for i in range(2,df['Sum'].max())}  \n",
        "print(X)\n"
      ],
      "execution_count": null,
      "outputs": []
    },
    {
      "cell_type": "markdown",
      "metadata": {
        "id": "CUcq6Vi8q0ks"
      },
      "source": [
        "**Exercise 1**\n",
        "  * What is the probablity that half the product of three dice will exceed their sum\n",
        "  * The output should look like: {False: 0.37, True: 0.63}"
      ]
    },
    {
      "cell_type": "code",
      "metadata": {
        "colab": {
          "base_uri": "https://localhost:8080/"
        },
        "id": "bTLy9pMj6LcX",
        "outputId": "5334543a-8a27-4ef6-9c8a-4f350dcbb362"
      },
      "source": [
        "# keys of the dictionary are the triples and the values are the logical values \n",
        "d = {(i, j, k): # fill in          } \n",
        "\n",
        "dinv = defaultdict(list)\n",
        "for i, j in d.items():    # i, j here represent the keys and values in dictionary d, which is different from i, j above\n",
        "  dinv[j].append(i) # dinv contains only two keys, True and False\n",
        "\n",
        "# calculate the probability\n",
        "X = {#fill in} \n",
        "print(X)\n",
        "\n"
      ],
      "execution_count": null,
      "outputs": [
        {
          "output_type": "stream",
          "name": "stdout",
          "text": [
            "{False: 0.37, True: 0.63}\n"
          ]
        }
      ]
    },
    {
      "cell_type": "code",
      "metadata": {
        "id": "AdBBn8pv-xr2"
      },
      "source": [
        "# Toss two dices, one is fair and the other is not. P({1})=P({2})=P({3})= 1/9, P({4})=P({5})=P({6})= 2/9, what is the probablity of having a sum of 2, 3, 4, ..., 12.\n",
        "from pandas import DataFrame\n",
        "d = DataFrame(index = [(i,j) for i in range (1,7) for j in range (1,7)], columns = ['sm','d1','d2', 'pd1','pd2','p'])\n",
        "\n",
        "# populate the columens where the outcome of the first die is the d1 column and the outcome of the second die is d2.\n",
        "d.d1 = [i[0] for i in d.index] \n",
        "d.d2 = [i[1] for i in d.index] \n",
        "\n",
        "# compute the sum of the dices in the sm column\n",
        "#d.sm = list(map(sum, d.index))\n",
        "d.sm = d.d1 + d.d2\n",
        "print(d.head(5))\n",
        "\n",
        "# fill out the probabilities for each face of the unfair die (d1) and the fair die (d2)\n",
        "d.loc[d.d1 <= 3, 'pd1'] = 1/9\n",
        "d.loc[d.d1 > 3, 'pd1'] = 2/9\n",
        "d.pd2 = 1/6\n",
        "print(d.head(10))\n",
        "\n",
        "# compute joint probablities for the sum of ths shown faces \n",
        "d.p = d.pd1 * d.pd2\n",
        "print(d.head(5))\n",
        "\n",
        "# compute the probability of all the dice outcomes \n",
        "d.groupby('sm')['p'].sum()"
      ],
      "execution_count": null,
      "outputs": []
    },
    {
      "cell_type": "markdown",
      "metadata": {
        "id": "yXtYak5bthru"
      },
      "source": [
        "**Exercise 2**\n",
        "  * Flip 3 coins, all of which are loaded. Two are loaded such as P(H) = 2P(T) and the third is loaded P(H) = 3P(T) What are the proobabilities to get 3 heads and 3 tails respectivley. \n",
        "  * What is the mean # of heads\n",
        "  * What is the variance of heads\n",
        "  * Output should look like: The mean heads = 2.08, the variance of heads = 0.63\n"
      ]
    },
    {
      "cell_type": "code",
      "metadata": {
        "id": "IeBEudZvtgUD"
      },
      "source": [
        "from pandas import DataFrame\n",
        "c = DataFrame(# fill in)\n",
        "\n",
        "# populate the columens where the outcome of the first die is the d1 column and the outcome of the second die is d2.\n",
        "\n",
        "# compute the sum of the dices in the sm column\n",
        "\n",
        "\n",
        "# fill out the probabilities for each face of the unfair die (d1) and the fair die (d2)\n",
        "\n",
        "# compute joint probablities for the sum of all heads\n",
        "\n",
        "# compute the probability  of all the outcomes \n",
        "\n",
        "# find probablity for 'sm' == 0 or 3\n",
        "\n",
        "# add a column of first_moment and a column of second_moment column to calculate the variance\n",
        "\n"
      ],
      "execution_count": null,
      "outputs": []
    },
    {
      "cell_type": "code",
      "metadata": {
        "colab": {
          "base_uri": "https://localhost:8080/"
        },
        "id": "Dgr6oskZCwjp",
        "outputId": "d9c566a8-89fd-471e-bf4e-c2588aaac8da"
      },
      "source": [
        "# Continuous random variable \n",
        "# broken rod example: given a rod of unit-length, broken independently and randomly at two places, what is the probability that you can assemble the three remaining pieces into a triangle?\n",
        "# Heron's formula for the area of the triangle: area = ((s-a)*(s-b)*(s-c)*s)^0.5, where s = (a + b + c)/2\n",
        "\n",
        "import numpy as np\n",
        "x, y = np.random.rand(2,10)  #uniform distribution over [0,1]\n",
        "a, b, c = x, (y-x), 1-y\n",
        "s = (a+b+c) / 2\n",
        "np.mean((s>a) & (s>b) & (s>c) & (y>x)) # answer should approach 0.125 or 1/8. Unpingco pp54"
      ],
      "execution_count": 6,
      "outputs": [
        {
          "output_type": "execute_result",
          "data": {
            "text/plain": [
              "0.2"
            ]
          },
          "metadata": {},
          "execution_count": 6
        }
      ]
    },
    {
      "cell_type": "code",
      "metadata": {
        "id": "QR7H4ayP9Fps"
      },
      "source": [
        ""
      ],
      "execution_count": null,
      "outputs": []
    },
    {
      "cell_type": "markdown",
      "metadata": {
        "id": "vKYuDj8j2v32"
      },
      "source": [
        "**Exercise 3 - mini-powerball (bonus problem)**\n",
        "  * Select three numbers from 1 to 9 for the white balls (no repeat); then select one number from 1 to 4 for the red ball. If you pick two white ball numbers correclty and the red ball number correctly, you will win 10 dollars. What is the probability that you will win $10? Please generate a list to include all possible combinations of drawing, and another list to include all possible winning combinations. The ratio of the length of the two list should be the probability. Let's assume the winning numbers are white balls of 1,2,3 and red ball of 4. \n",
        "  * The output should be: The winning combinations are: [(1, 2, 4, 4), (1, 2, 5, 4), (1, 2, 6, 4), (1, 2, 7, 4), (1, 2, 8, 4), (1, 2, 9, 4), (1, 3, 4, 4), (1, 3, 5, 4), (1, 3, 6, 4), (1, 3, 7, 4), (1, 3, 8, 4), (1, 3, 9, 4), (2, 3, 4, 4), (2, 3, 5, 4), (2, 3, 6, 4), (2, 3, 7, 4), (2, 3, 8, 4), (2, 3, 9, 4)]\n",
        "  * The total # of combinations = 336, the # of winning combinations = 18\n",
        "  * The probablity of winning = 0.05357142857142857"
      ]
    },
    {
      "cell_type": "code",
      "metadata": {
        "id": "jxJzFXxPWAZp",
        "colab": {
          "base_uri": "https://localhost:8080/"
        },
        "outputId": "e9608b55-11e8-4468-bbeb-8d453f21d2b8"
      },
      "source": [
        "\n",
        "\n",
        "from pandas import DataFrame\n",
        "b = DataFrame(index = [(i, j, k, l) for i in range(1,10) for j in range(1,10) for k in range(1,10) for l in range(1,5)], columns = ['w1','w2','w3', 'r1'])\n",
        "\n",
        "counter1 = 0\n",
        "counter2 = 0\n",
        "ind = []\n",
        "\n",
        "# Counter 1 is the number of combinations of drawing 3 white and 1 red balls. counter 2 is the combination of all winning draws. ind is the list with all winning combinations\n",
        "# Write your code below to enumerate the counter 1 and counter 2 values\n",
        "\n",
        "\n"
      ],
      "execution_count": null,
      "outputs": [
        {
          "output_type": "stream",
          "name": "stdout",
          "text": [
            "               w1   w2   w3   r1\n",
            "(1, 1, 1, 1)  NaN  NaN  NaN  NaN\n",
            "(1, 1, 1, 2)  NaN  NaN  NaN  NaN\n",
            "(1, 1, 1, 3)  NaN  NaN  NaN  NaN\n",
            "(1, 1, 1, 4)  NaN  NaN  NaN  NaN\n",
            "(1, 1, 2, 1)  NaN  NaN  NaN  NaN\n",
            "7 336\n",
            "[(1, 2, 3, 3), (1, 2, 4, 3), (1, 2, 5, 3), (1, 2, 6, 3), (1, 2, 7, 3), (1, 2, 8, 3), (1, 2, 9, 3)]\n"
          ]
        }
      ]
    }
  ]
}