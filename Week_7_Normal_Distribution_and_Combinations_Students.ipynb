{
  "nbformat": 4,
  "nbformat_minor": 0,
  "metadata": {
    "colab": {
      "name": "Week 7_Normal Distribution and Combinations_Students",
      "provenance": [],
      "collapsed_sections": [],
      "authorship_tag": "ABX9TyMosyDCM/irsb0N8U0VVQc+",
      "include_colab_link": true
    },
    "kernelspec": {
      "name": "python3",
      "display_name": "Python 3"
    },
    "language_info": {
      "name": "python"
    }
  },
  "cells": [
    {
      "cell_type": "markdown",
      "metadata": {
        "id": "view-in-github",
        "colab_type": "text"
      },
      "source": [
        "<a href=\"https://colab.research.google.com/github/xuc207/MAT20/blob/main/Week_7_Normal_Distribution_and_Combinations_Students.ipynb\" target=\"_parent\"><img src=\"https://colab.research.google.com/assets/colab-badge.svg\" alt=\"Open In Colab\"/></a>"
      ]
    },
    {
      "cell_type": "markdown",
      "metadata": {
        "id": "uOrxhboW_MtH"
      },
      "source": [
        ""
      ]
    },
    {
      "cell_type": "code",
      "metadata": {
        "colab": {
          "base_uri": "https://localhost:8080/"
        },
        "id": "bTLy9pMj6LcX",
        "outputId": "cd19040c-47ec-48b0-9c0a-84451cfe6595"
      },
      "source": [
        "# Midterm exam question\n",
        "\n",
        "d = {(i, j):((i*j)*2>(i+j)) for i in range (1,3) for j in range (1, 3)} # keys of the dictionary are the triples and the values are the logical values \n",
        "print(d)\n",
        "\n",
        "import pandas as pd\n",
        "df = pd.DataFrame(d.items(), columns=['Dice Numbers', 'Comparison'])\n",
        "grp = df.groupby('Comparison')\n",
        "T = grp.get_group(True)\n",
        "F = grp.get_group(False)\n",
        "print(F)\n",
        "\n",
        "X = {True:len(T)/2**2., False:len(F)/2**2} \n",
        "print(X)\n",
        "\n",
        "type(len(T))\n",
        "\n"
      ],
      "execution_count": null,
      "outputs": [
        {
          "output_type": "stream",
          "name": "stdout",
          "text": [
            "{(1, 1): False, (1, 2): True, (2, 1): True, (2, 2): True}\n",
            "  Dice Numbers  Comparison\n",
            "0       (1, 1)       False\n",
            "{True: 0.75, False: 0.25}\n"
          ]
        },
        {
          "output_type": "execute_result",
          "data": {
            "text/plain": [
              "int"
            ]
          },
          "metadata": {},
          "execution_count": 3
        }
      ]
    },
    {
      "cell_type": "code",
      "metadata": {
        "colab": {
          "base_uri": "https://localhost:8080/"
        },
        "id": "_CyIM07-w9__",
        "outputId": "a2b47ffa-68e9-4a48-c37c-6fa4206c54c0"
      },
      "source": [
        "# Three coins, 5, 10 and 25 cents are tossed. The values of the coins that land heads up are totaled. What is the expected total given that two coins have landed heads up?\n",
        "\n",
        "import pandas as pd\n",
        "import numpy as np\n",
        "d = pd.DataFrame(columns = ['X5', 'X10', \"X25\"]) # create an empty Pandas data frame with the name columns. \n",
        "n = 10 # n is the number of experimental repeats\n",
        "d.X5 = np.random.randint(0, 2, n) # Assign values to the columns\n",
        "d.X10 = np.random.randint(0, 2, n)\n",
        "d.X25 = np.random.randint(0, 2, n)\n",
        "\n",
        "print(d)\n",
        "grp = d.groupby(d.eval('X5 + X10 + X25')) # evaluate the given formula using the named columns\n",
        "print(grp.get_group(2))\n",
        "grp.get_group(2).eval('5*X5 + 10*X10 + 25*X25').mean()  # Get the 2 group which corresponds to two coins landed heads-up, and then evaluate the sum of the values of the coins\n",
        "\n",
        "# results is close to 80/3\n"
      ],
      "execution_count": 3,
      "outputs": [
        {
          "output_type": "stream",
          "name": "stdout",
          "text": [
            "   X5  X10  X25\n",
            "0   0    1    1\n",
            "1   1    1    0\n",
            "2   1    1    1\n",
            "3   1    1    1\n",
            "4   1    0    1\n",
            "5   1    0    1\n",
            "6   0    1    0\n",
            "7   1    0    0\n",
            "8   1    1    1\n",
            "9   0    1    1\n",
            "   X5  X10  X25\n",
            "0   0    1    1\n",
            "1   1    1    0\n",
            "4   1    0    1\n",
            "5   1    0    1\n",
            "9   0    1    1\n"
          ]
        },
        {
          "output_type": "execute_result",
          "data": {
            "text/plain": [
              "29.0"
            ]
          },
          "metadata": {},
          "execution_count": 3
        }
      ]
    },
    {
      "cell_type": "code",
      "metadata": {
        "colab": {
          "base_uri": "https://localhost:8080/"
        },
        "id": "1npvpdjzyblu",
        "outputId": "bcd3ba6a-7fe6-4889-a2e6-e47774491f09"
      },
      "source": [
        "# alternative codes to the ones above, uisng Numpy dot product to computer the value of the heads-up coins\n",
        "import numpy as np\n",
        "from numpy import array\n",
        "x = np.random.randint(0, 2, (3,15))\n",
        "print(x)\n",
        "#print(np.dot(x, array([5,10, 25])))\n",
        "print(x[:,x.sum(axis=0)==2].T)\n",
        "print(np.dot(x[:,x.sum(axis=0)==2].T, array([5,10, 25])).mean())"
      ],
      "execution_count": 4,
      "outputs": [
        {
          "output_type": "stream",
          "name": "stdout",
          "text": [
            "[[0 1 1 0 0 0 1 0 0 1 1 0 0 1 1]\n",
            " [1 1 0 0 0 0 1 0 0 1 1 0 0 1 0]\n",
            " [1 0 1 1 0 1 0 0 0 0 0 1 0 1 0]]\n",
            "[[0 1 1]\n",
            " [1 1 0]\n",
            " [1 0 1]\n",
            " [1 1 0]\n",
            " [1 1 0]\n",
            " [1 1 0]]\n",
            "20.833333333333332\n"
          ]
        }
      ]
    },
    {
      "cell_type": "code",
      "metadata": {
        "colab": {
          "base_uri": "https://localhost:8080/"
        },
        "id": "Ji2uKD4qriYu",
        "outputId": "acd62d1f-0e11-49bb-8d0a-04f7f17ca757"
      },
      "source": [
        "# Another alternative codes to the ones above, uisng Numpy dot product to computer the value of the heads-up coins\n",
        "import numpy as np\n",
        "from numpy import array\n",
        "x = np.random.randint(0, 2, (10, 3))\n",
        "y = []\n",
        "for i in range (0,len(x)):\n",
        "  if sum(x[i]) == 2:\n",
        "    y.append(x[i])\n",
        "print(y)\n",
        "print(np.dot(y, array([5,10, 25])).mean())"
      ],
      "execution_count": null,
      "outputs": [
        {
          "output_type": "stream",
          "name": "stdout",
          "text": [
            "[[1 1 0]\n",
            " [1 1 1]\n",
            " [1 0 1]\n",
            " [1 1 1]\n",
            " [0 1 0]\n",
            " [1 0 1]\n",
            " [0 0 1]\n",
            " [1 1 0]\n",
            " [1 0 0]\n",
            " [0 1 1]]\n",
            "[array([1, 1, 0]), array([1, 0, 1]), array([1, 0, 1]), array([1, 1, 0]), array([0, 1, 1])]\n",
            "25.0\n"
          ]
        }
      ]
    },
    {
      "cell_type": "markdown",
      "metadata": {
        "id": "Crmb0C3oVh2o"
      },
      "source": [
        "**Excerise 1**\n",
        "  * Among 12 students, what is the probability that at least two students have the same birthday? Assume that all birthdays are equally likely and there are 365 days in a year\n"
      ]
    },
    {
      "cell_type": "code",
      "metadata": {
        "colab": {
          "base_uri": "https://localhost:8080/"
        },
        "id": "GPrq5GwRQTIA",
        "outputId": "64e59058-f26d-4d0f-d5cd-d1d5a4553a6c"
      },
      "source": [
        "# Generate n experimental outcomes\n",
        "\n",
        "# Count unique birthdays in each outcome\n",
        "\n",
        "# Calculate the probablity of unique birthdays out of all outcomes\n"
      ],
      "execution_count": 9,
      "outputs": [
        {
          "output_type": "stream",
          "name": "stdout",
          "text": [
            "The probablity of all unique birthday is 0.17300000000000004\n"
          ]
        }
      ]
    },
    {
      "cell_type": "code",
      "metadata": {
        "colab": {
          "base_uri": "https://localhost:8080/",
          "height": 281
        },
        "id": "NvxVtYtiUCZB",
        "outputId": "c4f59289-62cb-4f7e-9faf-249bec90b583"
      },
      "source": [
        "# Plot and fit histrogram\n",
        "\n",
        "import numpy as np\n",
        "from scipy.stats import norm\n",
        "import matplotlib.pyplot as plt\n",
        "\n",
        "\n",
        "# Generate some data for this demonstration.\n",
        "data = norm.rvs(10.0, 2.5, size=500)\n",
        "\n",
        "# Fit a normal distribution to the data:\n",
        "mu, std = norm.fit(data)\n",
        "\n",
        "# Plot the histogram.\n",
        "plt.hist(data, bins=25, density=True, alpha=0.6, color='g')\n",
        "\n",
        "# Plot the PDF.\n",
        "xmin, xmax = plt.xlim()\n",
        "x = np.linspace(xmin, xmax, 100)\n",
        "p = norm.pdf(x, mu, std)\n",
        "plt.plot(x, p, 'k', linewidth=2)\n",
        "title = \"Fit results: mu = %.2f,  std = %.2f\" % (mu, std)\n",
        "plt.title(title)\n",
        "\n",
        "plt.show()"
      ],
      "execution_count": 8,
      "outputs": [
        {
          "output_type": "display_data",
          "data": {
            "image/png": "[encoded data removed]",
            "text/plain": [
              "<Figure size 432x288 with 1 Axes>"
            ]
          },
          "metadata": {
            "needs_background": "light"
          }
        }
      ]
    },
    {
      "cell_type": "markdown",
      "metadata": {
        "id": "_hGTxhB8FgR3"
      },
      "source": [
        "**Exercise**\n",
        "  * Midterm grades are [27, 15, 47, 34.5, 33, 48.5, 46, 54.5, 49, 31.5, 48, 28, 54.5]. Plot the data as a histogram (use 8 bins) and fit the data using a normal distribution. Find the mean and the standard deviation based on a normal distribution."
      ]
    },
    {
      "cell_type": "code",
      "metadata": {
        "id": "TDaXuvj30gEO",
        "colab": {
          "base_uri": "https://localhost:8080/",
          "height": 295
        },
        "outputId": "eb9ff01a-2c8b-46aa-da7f-2fc9467ad66f"
      },
      "source": [
        "import matplotlib.pyplot as plt\n",
        "import numpy as np\n",
        "from scipy.stats import norm\n",
        "\n",
        "# Define data\n",
        "\n",
        "\n",
        "# Fit a normal distribution to the data:\n",
        "\n",
        "\n",
        "# Plot the histogram.\n",
        "\n",
        "\n",
        "# Plot the PDF.\n",
        "\n",
        "\n"
      ],
      "execution_count": null,
      "outputs": [
        {
          "output_type": "display_data",
          "data": {
            "image/png": "[encoded data removed]",
            "text/plain": [
              "<Figure size 432x288 with 1 Axes>"
            ]
          },
          "metadata": {
            "needs_background": "light"
          }
        }
      ]
    },
    {
      "cell_type": "code",
      "metadata": {
        "id": "wJEWFbQpSqi4"
      },
      "source": [
        ""
      ],
      "execution_count": null,
      "outputs": []
    }
  ]
}