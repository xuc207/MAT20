{
  "nbformat": 4,
  "nbformat_minor": 0,
  "metadata": {
    "kernelspec": {
      "display_name": "Python 3",
      "language": "python",
      "name": "python3"
    },
    "language_info": {
      "codemirror_mode": {
        "name": "ipython",
        "version": 3
      },
      "file_extension": ".py",
      "mimetype": "text/x-python",
      "name": "python",
      "nbconvert_exporter": "python",
      "pygments_lexer": "ipython3",
      "version": "3.7.3"
    },
    "colab": {
      "name": "Week 2_Numpy, Scipy, Sympy_student.ipynb",
      "provenance": [],
      "collapsed_sections": [],
      "include_colab_link": true
    }
  },
  "cells": [
    {
      "cell_type": "markdown",
      "metadata": {
        "id": "view-in-github",
        "colab_type": "text"
      },
      "source": [
        "<a href=\"https://colab.research.google.com/github/xuc207/MAT20/blob/main/Week_2_Numpy%2C_Scipy%2C_Sympy_student.ipynb\" target=\"_parent\"><img src=\"https://colab.research.google.com/assets/colab-badge.svg\" alt=\"Open In Colab\"/></a>"
      ]
    },
    {
      "cell_type": "markdown",
      "metadata": {
        "id": "ojnSoLd8G-Ip"
      },
      "source": [
        "## Numpy\n",
        "\n",
        "Numpy module provides byte-sized arrays in python"
      ]
    },
    {
      "cell_type": "code",
      "metadata": {
        "id": "gHeANuDDG-I4",
        "colab": {
          "base_uri": "https://localhost:8080/"
        },
        "outputId": "6a69c1e7-a808-4ff0-d804-ddcb16905cdd"
      },
      "source": [
        "import numpy as np # convention\n",
        "x = np.array([1,2,3], dtype=np.float32) # 4 bytes or 32 bits\n",
        "x"
      ],
      "execution_count": null,
      "outputs": [
        {
          "output_type": "execute_result",
          "data": {
            "text/plain": [
              "array([1., 2., 3.], dtype=float32)"
            ]
          },
          "metadata": {},
          "execution_count": 11
        }
      ]
    },
    {
      "cell_type": "code",
      "metadata": {
        "id": "bj4EvC3zG-Je",
        "colab": {
          "base_uri": "https://localhost:8080/"
        },
        "outputId": "ab5a07ad-1c1e-4fa3-a166-41b6684efa37"
      },
      "source": [
        "print(x)"
      ],
      "execution_count": null,
      "outputs": [
        {
          "output_type": "stream",
          "name": "stdout",
          "text": [
            "[1. 2. 3.]\n"
          ]
        }
      ]
    },
    {
      "cell_type": "code",
      "metadata": {
        "id": "v-Cck4mxG-Jy",
        "colab": {
          "base_uri": "https://localhost:8080/"
        },
        "outputId": "a75a602c-ccb7-41cf-d26f-50cb48da66da"
      },
      "source": [
        "x.itemsize  #return the length of one array element in bytes"
      ],
      "execution_count": null,
      "outputs": [
        {
          "output_type": "execute_result",
          "data": {
            "text/plain": [
              "4"
            ]
          },
          "metadata": {},
          "execution_count": 14
        }
      ]
    },
    {
      "cell_type": "code",
      "metadata": {
        "colab": {
          "base_uri": "https://localhost:8080/"
        },
        "id": "2uup3GzJ8mu7",
        "outputId": "adb4ef96-7f2d-4289-d2cd-34021830b69c"
      },
      "source": [
        "# To convert a list of numeric value into a one-dimensional NumPy array\n",
        "import numpy as np\n",
        "l = [12, 13, 100, 36]\n",
        "print(\"Original List:\",l)\n",
        "a = np.array(l)\n",
        "print(\"One-dimensional NumPy array: \",a)"
      ],
      "execution_count": null,
      "outputs": [
        {
          "output_type": "stream",
          "name": "stdout",
          "text": [
            "Original List: [12, 13, 100, 36]\n",
            "One-dimensional NumPy array:  [ 12  13 100  36]\n"
          ]
        }
      ]
    },
    {
      "cell_type": "code",
      "metadata": {
        "id": "YNlJLqrZG-KE",
        "colab": {
          "base_uri": "https://localhost:8080/"
        },
        "outputId": "c1d7187a-7ebd-440c-81cc-bde208ba69c2"
      },
      "source": [
        "np.sin(np.array([1,2,3]))  # Numpy functions process arrays element-wise without looping semantics. "
      ],
      "execution_count": null,
      "outputs": [
        {
          "output_type": "execute_result",
          "data": {
            "text/plain": [
              "array([0.84147098, 0.90929743, 0.14112001])"
            ]
          },
          "metadata": {},
          "execution_count": 9
        }
      ]
    },
    {
      "cell_type": "code",
      "metadata": {
        "id": "7UF_hcRJG-KK",
        "colab": {
          "base_uri": "https://localhost:8080/"
        },
        "outputId": "545b7f49-613c-41cc-b2d2-b456ea4c5701"
      },
      "source": [
        "np.sin(np.array([1,2,3], dtype=np.float32))"
      ],
      "execution_count": null,
      "outputs": [
        {
          "output_type": "execute_result",
          "data": {
            "text/plain": [
              "array([0.841471 , 0.9092974, 0.14112  ], dtype=float32)"
            ]
          },
          "metadata": {},
          "execution_count": 10
        }
      ]
    },
    {
      "cell_type": "code",
      "metadata": {
        "id": "l7re68ZiG-Kg",
        "colab": {
          "base_uri": "https://localhost:8080/"
        },
        "outputId": "ef86c414-cea9-4b8b-cfa5-278fefd2d233"
      },
      "source": [
        "np.sin([1,2,3])  #use Python list instead of Numpy array"
      ],
      "execution_count": null,
      "outputs": [
        {
          "output_type": "execute_result",
          "data": {
            "text/plain": [
              "array([0.84147098, 0.90929743, 0.14112001])"
            ]
          },
          "metadata": {},
          "execution_count": 11
        }
      ]
    },
    {
      "cell_type": "code",
      "metadata": {
        "id": "H9NG6eXlG-K_",
        "colab": {
          "base_uri": "https://localhost:8080/"
        },
        "outputId": "8997ec0c-fcd0-4162-a87d-d4c6629c9da6"
      },
      "source": [
        "# compare with sin fucntion in the math module\n",
        "from math import sin\n",
        "[sin(i) for i in [1,2,3]] # list comprehension"
      ],
      "execution_count": null,
      "outputs": [
        {
          "output_type": "execute_result",
          "data": {
            "text/plain": [
              "[0.8414709848078965, 0.9092974268256817, 0.1411200080598672]"
            ]
          },
          "metadata": {},
          "execution_count": 12
        }
      ]
    },
    {
      "cell_type": "code",
      "metadata": {
        "id": "3F2PFoskG-LV",
        "colab": {
          "base_uri": "https://localhost:8080/"
        },
        "outputId": "cfd69336-bb72-47fa-e7ff-418badde6abd"
      },
      "source": [
        "# dimension of arrays\n",
        "import numpy as np\n",
        "x = np.array([[1,2,3], [4,5,6]])  # 2x3 array constructed from two conforming Python lists\n",
        "x.shape"
      ],
      "execution_count": null,
      "outputs": [
        {
          "output_type": "execute_result",
          "data": {
            "text/plain": [
              "(2, 3)"
            ]
          },
          "metadata": {},
          "execution_count": 2
        }
      ]
    },
    {
      "cell_type": "code",
      "metadata": {
        "id": "uQihGR0qsuhk"
      },
      "source": [
        "# note double bracket\n",
        "np.array([1,2,3],[8,5,6])"
      ],
      "execution_count": null,
      "outputs": []
    },
    {
      "cell_type": "code",
      "metadata": {
        "id": "mjLzWNxqG-MA"
      },
      "source": [
        "x"
      ],
      "execution_count": null,
      "outputs": []
    },
    {
      "cell_type": "code",
      "metadata": {
        "id": "yzQ4aqd3HQej"
      },
      "source": [
        "np.sin(x)   "
      ],
      "execution_count": null,
      "outputs": []
    },
    {
      "cell_type": "code",
      "metadata": {
        "id": "Mpjn_6bHG-MZ"
      },
      "source": [
        "x[:,0]  # 0th column, follwing the Python slicing rule. Colon character selects all elements along a particular axis. "
      ],
      "execution_count": null,
      "outputs": []
    },
    {
      "cell_type": "code",
      "metadata": {
        "id": "msY--R9CG-Mf"
      },
      "source": [
        "x[1,:] # 1st row"
      ],
      "execution_count": null,
      "outputs": []
    },
    {
      "cell_type": "code",
      "metadata": {
        "id": "49XQOo_VG-Mr"
      },
      "source": [
        "x[:,1:] # all rows, 1st through last column"
      ],
      "execution_count": null,
      "outputs": []
    },
    {
      "cell_type": "code",
      "metadata": {
        "id": "PSdcjfiqG-Mz"
      },
      "source": [
        "x[:,::2] # all rows, every other column"
      ],
      "execution_count": null,
      "outputs": []
    },
    {
      "cell_type": "code",
      "metadata": {
        "id": "AncXXr3hG-M5"
      },
      "source": [
        "x[:,::-1] # reverse order of column"
      ],
      "execution_count": null,
      "outputs": []
    },
    {
      "cell_type": "code",
      "metadata": {
        "id": "1Det_7cT_7_5"
      },
      "source": [
        "# Create a 8x8 matrix and fill it with a checkerboard pattern"
      ],
      "execution_count": null,
      "outputs": []
    },
    {
      "cell_type": "code",
      "metadata": {
        "id": "GGVHxLSi_2_w"
      },
      "source": [
        "#@title\n",
        "import numpy as np\n",
        "print(\"Checkerboard pattern:\")\n",
        "x = np.zeros((8,8),dtype=int)\n",
        "x[1::2,::2] = 1\n",
        "x[::2,1::2] = 1\n",
        "print(x)"
      ],
      "execution_count": null,
      "outputs": []
    },
    {
      "cell_type": "code",
      "metadata": {
        "id": "h_oGQ7OhG-M7"
      },
      "source": [
        "# Numpy array\n",
        "import numpy as np\n",
        "x = np.ones((3,3))\n",
        "x"
      ],
      "execution_count": null,
      "outputs": []
    },
    {
      "cell_type": "code",
      "metadata": {
        "id": "23CFmoi5G-M9"
      },
      "source": [
        "import numpy as np\n",
        "x = np.array([[1,2,3], [4,5,6],[7,8,9]])\n",
        "x[:,[0,1,2,2]] # duplicate colume 2, the last dimension\n"
      ],
      "execution_count": null,
      "outputs": []
    },
    {
      "cell_type": "code",
      "metadata": {
        "id": "IzpXT5PoG-NA"
      },
      "source": [
        "# if the indexing object (the item beween the brackets) is a non-tuple sequence object, another Numpy array (of type integer or boolean), or a tuple with at least one sequence object or Numpy array, then indexing creates copies. \n",
        "y = x[:,[0,1,2,1]] # Index by integer list to force copy. after assigning, y has its own memory as the relevant part of x were copied. Assigning a new element to x does not update y\n",
        "x[0,0]=99\n",
        "y"
      ],
      "execution_count": null,
      "outputs": []
    },
    {
      "cell_type": "code",
      "metadata": {
        "id": "7FtYuPhmG-NC"
      },
      "source": [
        "x = np.array([[1,2,3], [4,5,6],[7,8,9]])\n",
        "y = x[:2,:2] # construct by by slicing, which makes it a view. Changes made to x affect y. \n",
        "x[0,0] = 99\n",
        "y"
      ],
      "execution_count": null,
      "outputs": []
    },
    {
      "cell_type": "code",
      "metadata": {
        "id": "i7J9Fk1QG-ND"
      },
      "source": [
        "x = np.arange(5) # create array\n",
        "print(x)\n",
        "y = x [[0,1,2]] # index by integer list to force copy, so y is a copy\n",
        "print(y)\n",
        "z = x[:3] # slice creates view, z will be affected by chagnes to x. This is useful to create overlapping blocks but not consume additinal memory\n",
        "print(x, y, z)\n",
        "x[0]=99\n",
        "print(x, y, z)"
      ],
      "execution_count": null,
      "outputs": []
    },
    {
      "cell_type": "code",
      "metadata": {
        "id": "W_D-qPVydQKm"
      },
      "source": [
        "import numpy as np\n",
        "x = np.arange(10)\n",
        "x[(x >= 2) & (x <= 6)]\n"
      ],
      "execution_count": null,
      "outputs": []
    },
    {
      "cell_type": "code",
      "metadata": {
        "id": "Boat_09GG-NG",
        "colab": {
          "base_uri": "https://localhost:8080/"
        },
        "outputId": "108a2a74-0de5-4270-93af-d44fedf16aad"
      },
      "source": [
        "# Numpy Matrices\n",
        "import numpy as np\n",
        "A = np.matrix([[1,2,3], [4,5,6], [7,8,9]])\n",
        "print(A)\n",
        "x = np.matrix([[1],[0],[0]])\n",
        "print(x)\n",
        "A*x # row-column multiplication"
      ],
      "execution_count": null,
      "outputs": [
        {
          "output_type": "stream",
          "name": "stdout",
          "text": [
            "[[1 2 3]\n",
            " [4 5 6]\n",
            " [7 8 9]]\n",
            "[[1]\n",
            " [0]\n",
            " [0]]\n"
          ]
        },
        {
          "output_type": "execute_result",
          "data": {
            "text/plain": [
              "matrix([[1],\n",
              "        [4],\n",
              "        [7]])"
            ]
          },
          "metadata": {},
          "execution_count": 18
        }
      ]
    },
    {
      "cell_type": "code",
      "metadata": {
        "id": "SpcaSDGvG-NK"
      },
      "source": [
        "# Numpy Matrices above can be done using arrays\n",
        "import numpy as np\n",
        "A = np.array([[1,2,3], [4,5,6], [7,8,9]])\n",
        "x = np.array([[1],[0],[0]])\n",
        "print(A)\n",
        "print(x)\n",
        "A@x # Numpy array suport element-wise multiplication, not row-column multiplication. \n",
        "A*x"
      ],
      "execution_count": null,
      "outputs": []
    },
    {
      "cell_type": "code",
      "metadata": {
        "id": "9Ldri-mKG-NQ"
      },
      "source": [
        "# Turn array to matrix\n",
        "A = np.array([[1,2,3], [4,5,6], [7,8,9]])\n",
        "x = np.array([[1],[0],[0]])\n",
        "np.matrix(A)\n",
        "np.matrix(A)*x"
      ],
      "execution_count": null,
      "outputs": []
    },
    {
      "cell_type": "code",
      "metadata": {
        "id": "NIO4D6k68TEm"
      },
      "source": [
        ""
      ],
      "execution_count": null,
      "outputs": []
    },
    {
      "cell_type": "code",
      "metadata": {
        "id": "eNm09X7T8VTo"
      },
      "source": [
        "# Create a 3x3 matrix with values ranging from 2 to 10\n",
        "import numpy as np\n",
        "x =  np.arange(2, 11).reshape(3,3)\n",
        "print(x)"
      ],
      "execution_count": null,
      "outputs": []
    },
    {
      "cell_type": "code",
      "metadata": {
        "id": "S1O-I1sdG-NT"
      },
      "source": [
        "# Numpy masked arrays\n",
        "from numpy import ma\n",
        "x = np.arange(10)\n",
        "y = ma.masked_array(x, x < 5) # elements in the array are masked, but the size of the array remains the same\n",
        "print(y.shape)\n",
        "y"
      ],
      "execution_count": null,
      "outputs": []
    },
    {
      "cell_type": "code",
      "metadata": {
        "id": "qr-jPjxWG-NV"
      },
      "source": [
        "# Numpy masked arrays\n",
        "from numpy import ma\n",
        "x = np.arange(10)\n",
        "y = ma.masked_array(x, x < 5) # elements in the array are masked, but the size of the array remains the same\n",
        "x[-1] = 99  # changing an element in x does change the corresponding element in y\n",
        "y"
      ],
      "execution_count": null,
      "outputs": []
    },
    {
      "cell_type": "code",
      "metadata": {
        "colab": {
          "base_uri": "https://localhost:8080/"
        },
        "id": "4s62Edncebi9",
        "outputId": "f525469a-aa16-4ad4-f755-1ab37145ddd3"
      },
      "source": [
        "# calculate statistics\n",
        "import numpy as np\n",
        "x = np.array([[1.2, 1.5, 0.9, 0.8, 1.1, 1.0, 0.9, 1.1]])\n",
        "mu, med, sd = np.mean(x), np.median(x), np.std(x)\n",
        "print(mu, med, sd)\n",
        "np.percentile(x, q=[5, 95])\n",
        "\n"
      ],
      "execution_count": null,
      "outputs": [
        {
          "output_type": "stream",
          "name": "stdout",
          "text": [
            "1.0625 1.05 0.20577597041442908\n"
          ]
        },
        {
          "output_type": "execute_result",
          "data": {
            "text/plain": [
              "array([0.835, 1.395])"
            ]
          },
          "metadata": {},
          "execution_count": 20
        }
      ]
    },
    {
      "cell_type": "markdown",
      "metadata": {
        "id": "OrU6uPRUfHMV"
      },
      "source": [
        "**Normalize an array**\n",
        "* Create a normalized form of x whose values range exactly between 0 and 1 so that the minimum has value 0 and maximum has value 1."
      ]
    },
    {
      "cell_type": "markdown",
      "metadata": {
        "id": "obovLgI2fHKV"
      },
      "source": [
        ""
      ]
    },
    {
      "cell_type": "code",
      "metadata": {
        "colab": {
          "base_uri": "https://localhost:8080/"
        },
        "id": "d3E35dVaeywG",
        "outputId": "a39c7dfd-6559-42e1-ef8e-b71f631ef59d"
      },
      "source": [
        "#@title\n",
        "# normalize an array\n",
        "import numpy as np\n",
        "x = np.array([[1.2, 1.5, 0.9, 0.8, 1.1, 0.6]])\n",
        "Xmax, Xmin = x.max(), x.min()\n",
        "S = (x - Xmin)/(Xmax - Xmin)\n",
        "S\n",
        "\n"
      ],
      "execution_count": null,
      "outputs": [
        {
          "output_type": "execute_result",
          "data": {
            "text/plain": [
              "array([[0.66666667, 1.        , 0.33333333, 0.22222222, 0.55555556,\n",
              "        0.        ]])"
            ]
          },
          "metadata": {},
          "execution_count": 18
        }
      ]
    },
    {
      "cell_type": "code",
      "metadata": {
        "id": "lCFRCO3xebhY"
      },
      "source": [
        ""
      ],
      "execution_count": null,
      "outputs": []
    },
    {
      "cell_type": "markdown",
      "metadata": {
        "id": "agW3rAb0G-NW"
      },
      "source": [
        "### Scipy\n",
        "\n",
        "Scipy contains a wide range of compiled libraries based on Numpy arrays, including solving diferential equations, statistical functions, random number generators, probability distributions (scipy.stats module), optimization (sciepy.optimize), interpolation (scipy.interpolate). Some of the modules are so big that you cannot get all of them with import scipy because that would take too long to load. You may have to load some of the packates individually, e.g. import scipy.interpolate.\n",
        "\n",
        "scikits: sklearn for machine learning and scikit-image for image processing. \n",
        "\n",
        "### Sympy\n",
        "algebra module in Python. "
      ]
    },
    {
      "cell_type": "code",
      "metadata": {
        "id": "ivJDcNNqG-NZ",
        "colab": {
          "base_uri": "https://localhost:8080/"
        },
        "outputId": "a6a0fc36-5614-4eb8-a90b-5ed23de1bb4a"
      },
      "source": [
        "import sympy as S # big package, may take a while\n",
        "x = S.symbols('x')\n",
        "p = sum(x**i for i in range(3)) # 2nd order polynomial\n",
        "print(p)\n",
        "S.solve(p) # solve p == 0"
      ],
      "execution_count": null,
      "outputs": [
        {
          "output_type": "stream",
          "name": "stdout",
          "text": [
            "x**2 + x + 1\n"
          ]
        },
        {
          "output_type": "execute_result",
          "data": {
            "text/plain": [
              "[-1/2 - sqrt(3)*I/2, -1/2 + sqrt(3)*I/2]"
            ]
          },
          "metadata": {},
          "execution_count": 84
        }
      ]
    },
    {
      "cell_type": "code",
      "metadata": {
        "id": "S_7mcdUpG-Nb",
        "colab": {
          "base_uri": "https://localhost:8080/"
        },
        "outputId": "ea46fe57-c1ce-4b58-aa3f-071625e7fa93"
      },
      "source": [
        "S.roots(p) # provide roots as a dictionary"
      ],
      "execution_count": null,
      "outputs": [
        {
          "output_type": "execute_result",
          "data": {
            "text/plain": [
              "{-1/2 + sqrt(3)*I/2: 1, -1/2 - sqrt(3)*I/2: 1}"
            ]
          },
          "metadata": {},
          "execution_count": 85
        }
      ]
    },
    {
      "cell_type": "code",
      "metadata": {
        "id": "eXHx4PLyG-Nb",
        "colab": {
          "base_uri": "https://localhost:8080/"
        },
        "outputId": "1947f8e2-3c30-483c-b096-8952c7ca8214"
      },
      "source": [
        "# symbolic elements in expresions\n",
        "import sympy as S\n",
        "from sympy.abc import a, b, c # get common symbols\n",
        "p = a * x ** 2 + b * x + c\n",
        "S.solve(p,x) # specific solving for x variable "
      ],
      "execution_count": null,
      "outputs": [
        {
          "output_type": "execute_result",
          "data": {
            "text/plain": [
              "[(-b + sqrt(-4*a*c + b**2))/(2*a), -(b + sqrt(-4*a*c + b**2))/(2*a)]"
            ]
          },
          "metadata": {},
          "execution_count": 86
        }
      ]
    },
    {
      "cell_type": "code",
      "metadata": {
        "id": "xcrWT4A5G-Nb"
      },
      "source": [
        "S.exp(S.I*a)  # using Sympy exponential"
      ],
      "execution_count": null,
      "outputs": []
    },
    {
      "cell_type": "code",
      "metadata": {
        "id": "TDjuNUDLG-Nf"
      },
      "source": [
        "S.expand_complex(S.exp(S.I*a)) # Euler's formula for complex exponential"
      ],
      "execution_count": null,
      "outputs": []
    },
    {
      "cell_type": "code",
      "metadata": {
        "id": "Gg2WhlvrG-Ng"
      },
      "source": [
        "a = S.symbols('a', real = True) # force a to be real\n",
        "S.expand_complex(S.exp(S.I*a))"
      ],
      "execution_count": null,
      "outputs": []
    },
    {
      "cell_type": "code",
      "metadata": {
        "id": "yPfWNkJBG-Ng"
      },
      "source": [
        "y = S.tan(x) * x + x ** 2\n",
        "y.subs(x, .1)"
      ],
      "execution_count": null,
      "outputs": []
    },
    {
      "cell_type": "code",
      "metadata": {
        "id": "-0dbAp73G-Nh"
      },
      "source": [
        "[y.subs(x,i).evalf() for i in  range (3)]"
      ],
      "execution_count": null,
      "outputs": []
    },
    {
      "cell_type": "markdown",
      "metadata": {
        "id": "R7v17oYp7PrO"
      },
      "source": [
        "**Homework**\n",
        "1. Numpy array\n",
        "* Import the following file \n",
        "https://raw.githubusercontent.com/xuc207/MAT20/main/LAB2_array_1.txt\n",
        "* Normalize the measurement data (column 1 of the data0\n",
        "* Plot the orignal and normalizd data (submit the graph with your HW). \n",
        "2. Sympy\n",
        "* Find the symbolic solution to the cubic function  p = a * x ** 3 + b * x**2 + c * x + d"
      ]
    },
    {
      "cell_type": "code",
      "metadata": {
        "id": "teMmQpWFG-Nh",
        "colab": {
          "base_uri": "https://localhost:8080/"
        },
        "outputId": "c813000e-a314-44a4-f702-cf040ba443cc"
      },
      "source": [
        "# Example:\n",
        "# Import iris keeping the text column intact\n",
        "url = 'https://archive.ics.uci.edu/ml/machine-learning-databases/iris/iris.data'\n",
        "iris = np.genfromtxt(url, delimiter=',', dtype='object')\n",
        "print(iris[:5])\n",
        "names = ('sepallength', 'sepalwidth', 'petallength', 'petalwidth', 'species')\n",
        "\n",
        "# Solution\n",
        "# Extract the species column as an array\n",
        "species = np.array([row.tolist()[4] for row in iris])\n",
        "\n",
        "# Get the unique values and the counts\n",
        "np.unique(species, return_counts=True)\n"
      ],
      "execution_count": null,
      "outputs": [
        {
          "output_type": "stream",
          "name": "stdout",
          "text": [
            "[[b'5.1' b'3.5' b'1.4' b'0.2' b'Iris-setosa']\n",
            " [b'4.9' b'3.0' b'1.4' b'0.2' b'Iris-setosa']\n",
            " [b'4.7' b'3.2' b'1.3' b'0.2' b'Iris-setosa']\n",
            " [b'4.6' b'3.1' b'1.5' b'0.2' b'Iris-setosa']\n",
            " [b'5.0' b'3.6' b'1.4' b'0.2' b'Iris-setosa']]\n"
          ]
        },
        {
          "output_type": "execute_result",
          "data": {
            "text/plain": [
              "(array([b'Iris-setosa', b'Iris-versicolor', b'Iris-virginica'],\n",
              "       dtype='|S15'), array([50, 50, 50]))"
            ]
          },
          "metadata": {},
          "execution_count": 34
        }
      ]
    },
    {
      "cell_type": "code",
      "metadata": {
        "colab": {
          "resources": {
            "http://localhost:8080/nbextensions/google.colab/files.js": {
              "data": "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",
              "ok": true,
              "headers": [
                [
                  "content-type",
                  "application/javascript"
                ]
              ],
              "status": 200,
              "status_text": ""
            }
          },
          "base_uri": "https://localhost:8080/",
          "height": 73
        },
        "id": "_w17CBfY6ZN6",
        "outputId": "0c022f60-adfb-45cf-c08c-41bf463bfe04"
      },
      "source": [
        "from google.colab import files\n",
        "uploaded = files.upload()"
      ],
      "execution_count": null,
      "outputs": [
        {
          "output_type": "display_data",
          "data": {
            "text/html": [
              "\n",
              "     <input type=\"file\" id=\"files-a176ad25-8b76-4d8f-a664-452dd279abcf\" name=\"files[]\" multiple disabled\n",
              "        style=\"border:none\" />\n",
              "     <output id=\"result-a176ad25-8b76-4d8f-a664-452dd279abcf\">\n",
              "      Upload widget is only available when the cell has been executed in the\n",
              "      current browser session. Please rerun this cell to enable.\n",
              "      </output>\n",
              "      <script src=\"/nbextensions/google.colab/files.js\"></script> "
            ],
            "text/plain": [
              "<IPython.core.display.HTML object>"
            ]
          },
          "metadata": {}
        },
        {
          "output_type": "stream",
          "name": "stdout",
          "text": [
            "Saving Book2.txt to Book2.txt\n"
          ]
        }
      ]
    },
    {
      "cell_type": "code",
      "metadata": {
        "colab": {
          "base_uri": "https://localhost:8080/",
          "height": 661
        },
        "id": "1M0QLVUA77ai",
        "outputId": "ab0f1d51-1f4d-4d4d-eab2-c912057475ed"
      },
      "source": [
        "import numpy as np\n",
        "import struct\n",
        "del(spectra)\n",
        "\n",
        "# Import spectra file keeping the columns intact\n",
        "\n",
        "\n",
        "# Assign name to the two columns 'time' and 'measurement' \n",
        "\n",
        "\n",
        "\n",
        "# Normalize the column 'measurement' and store the normalized values as 'NormalizedM'\n",
        "\n",
        "\n",
        "# Plot 'measurement' and 'NormalizedM\" vs time \n",
        "import matplotlib.pyplot as plt\n",
        "plt.plot(time,measurement)\n",
        "plt.title('enter plot title')\n",
        "plt.xlabel('enter x-axis label')\n",
        "plt.ylabel('enter y-axis lable')\n",
        "plt.show()\n",
        "\n"
      ],
      "execution_count": null,
      "outputs": [
        {
          "output_type": "stream",
          "name": "stdout",
          "text": [
            "[[0.         0.99118865]\n",
            " [0.07451558 0.9756642 ]\n",
            " [0.14903116 0.96373296]\n",
            " [0.22354674 0.95617139]\n",
            " [0.29806233 0.94816303]]\n"
          ]
        },
        {
          "output_type": "display_data",
          "data": {
            "image/png": "[encoded data removed]",
            "text/plain": [
              "<Figure size 432x288 with 1 Axes>"
            ]
          },
          "metadata": {
            "needs_background": "light"
          }
        },
        {
          "output_type": "display_data",
          "data": {
            "image/png": "[encoded data removed]",
            "text/plain": [
              "<Figure size 432x288 with 1 Axes>"
            ]
          },
          "metadata": {
            "needs_background": "light"
          }
        }
      ]
    },
    {
      "cell_type": "code",
      "metadata": {
        "id": "Wx6AkchZyDAC",
        "colab": {
          "base_uri": "https://localhost:8080/"
        },
        "outputId": "90edd410-f453-4b54-faec-55db72d4b252"
      },
      "source": [
        "import sympy as S\n",
        "from sympy.abc import a, b, c, d # get common \n",
        "import numpy as np\n",
        "x = S.symbols('x')\n",
        "p = a * x ** 3 + b * x ** 2 + c * x + d\n",
        "S.solve(p,x) # specific solving for x variable \n",
        "\n"
      ],
      "execution_count": null,
      "outputs": [
        {
          "output_type": "execute_result",
          "data": {
            "text/plain": [
              "[-(-3*c/a + b**2/a**2)/(3*(sqrt(-4*(-3*c/a + b**2/a**2)**3 + (27*d/a - 9*b*c/a**2 + 2*b**3/a**3)**2)/2 + 27*d/(2*a) - 9*b*c/(2*a**2) + b**3/a**3)**(1/3)) - (sqrt(-4*(-3*c/a + b**2/a**2)**3 + (27*d/a - 9*b*c/a**2 + 2*b**3/a**3)**2)/2 + 27*d/(2*a) - 9*b*c/(2*a**2) + b**3/a**3)**(1/3)/3 - b/(3*a),\n",
              " -(-3*c/a + b**2/a**2)/(3*(-1/2 - sqrt(3)*I/2)*(sqrt(-4*(-3*c/a + b**2/a**2)**3 + (27*d/a - 9*b*c/a**2 + 2*b**3/a**3)**2)/2 + 27*d/(2*a) - 9*b*c/(2*a**2) + b**3/a**3)**(1/3)) - (-1/2 - sqrt(3)*I/2)*(sqrt(-4*(-3*c/a + b**2/a**2)**3 + (27*d/a - 9*b*c/a**2 + 2*b**3/a**3)**2)/2 + 27*d/(2*a) - 9*b*c/(2*a**2) + b**3/a**3)**(1/3)/3 - b/(3*a),\n",
              " -(-3*c/a + b**2/a**2)/(3*(-1/2 + sqrt(3)*I/2)*(sqrt(-4*(-3*c/a + b**2/a**2)**3 + (27*d/a - 9*b*c/a**2 + 2*b**3/a**3)**2)/2 + 27*d/(2*a) - 9*b*c/(2*a**2) + b**3/a**3)**(1/3)) - (-1/2 + sqrt(3)*I/2)*(sqrt(-4*(-3*c/a + b**2/a**2)**3 + (27*d/a - 9*b*c/a**2 + 2*b**3/a**3)**2)/2 + 27*d/(2*a) - 9*b*c/(2*a**2) + b**3/a**3)**(1/3)/3 - b/(3*a)]"
            ]
          },
          "metadata": {},
          "execution_count": 8
        }
      ]
    },
    {
      "cell_type": "code",
      "metadata": {
        "id": "rvioxd1PM1s6"
      },
      "source": [
        ""
      ],
      "execution_count": null,
      "outputs": []
    }
  ]
}