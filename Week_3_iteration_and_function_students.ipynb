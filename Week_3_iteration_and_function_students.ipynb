{
  "nbformat": 4,
  "nbformat_minor": 0,
  "metadata": {
    "colab": {
      "name": "Week 3_iteration and function_students.ipynb",
      "provenance": [],
      "collapsed_sections": [],
      "authorship_tag": "ABX9TyMB2nPz25lOQMQhbV+tF6pY",
      "include_colab_link": true
    },
    "kernelspec": {
      "name": "python3",
      "display_name": "Python 3"
    }
  },
  "cells": [
    {
      "cell_type": "markdown",
      "metadata": {
        "id": "view-in-github",
        "colab_type": "text"
      },
      "source": [
        "<a href=\"https://colab.research.google.com/github/xuc207/MAT20/blob/main/Week_3_iteration_and_function_students.ipynb\" target=\"_parent\"><img src=\"https://colab.research.google.com/assets/colab-badge.svg\" alt=\"Open In Colab\"/></a>"
      ]
    },
    {
      "cell_type": "markdown",
      "metadata": {
        "id": "WCEM4KqLhI4V"
      },
      "source": [
        "**Iterations**\n",
        "* while loops\n",
        "  * while condition:\n",
        "    * expression 1\n",
        "    * expression 2\n",
        "  * if condition is true, execute all the steps inside the while code block. \n",
        "  * repeat until condition is false or break\n",
        "  * unbounded number of iterations\n",
        "  * can use a counter but must initialize before loop and increment it in the loop\n",
        "\n",
        "* for loops\n",
        "  * for variable in range():\n",
        "    * expression 1\n",
        "    * expression 2\n",
        "  * known number of iterations\n",
        "  * uses a counter\n",
        "  * can rewrite for loop using a while loop, but may not be able to rewrite a while loop using a for loop\n",
        "\n",
        "* break statement\n",
        "  * while condition 1:\n",
        "    * expression 1\n",
        "    * break\n",
        "    * expression 2\n",
        "  * expression 2 is skipped"
      ]
    },
    {
      "cell_type": "code",
      "metadata": {
        "id": "HZ3a-g4jjy3q"
      },
      "source": [
        "n = 0 # initializing the counter\n",
        "while n <= 5:\n",
        "  print(n)\n",
        " # n += 1"
      ],
      "execution_count": null,
      "outputs": []
    },
    {
      "cell_type": "code",
      "metadata": {
        "id": "DgVZNMeakLsk"
      },
      "source": [
        "for n in range(6): \n",
        "  print(n)"
      ],
      "execution_count": null,
      "outputs": []
    },
    {
      "cell_type": "code",
      "metadata": {
        "id": "z-jGn2mEyTIY"
      },
      "source": [
        "mysum = 0\n",
        "for i in  range(5, 21, 2):\n",
        "  mysum += 1\n",
        "  print(mysum, i)\n",
        "  if mysum == 5:\n",
        "    break"
      ],
      "execution_count": null,
      "outputs": []
    },
    {
      "cell_type": "markdown",
      "metadata": {
        "id": "sNmGkEGZ56Xt"
      },
      "source": [
        "**common mistakes**\n",
        "* not initialize the variable\n",
        "  * likely get a Name Error\n",
        "  * or worse use an unexpected value (defined somewhere else) to initiate the computation\n",
        "* not change the variable inside the loop\n",
        "  * will end up in an infinite loop, never reaching the terminating condition "
      ]
    },
    {
      "cell_type": "code",
      "metadata": {
        "id": "OGJjMPZo5Y4e"
      },
      "source": [
        "# loops and range: range is a way to iterate over numbers or any set of values. \n",
        "s = 'abcdefghi'\n",
        "for i in range(len(s)):\n",
        "  if s[i] == 'i' or s[i] == 'u':\n",
        "    print('letter #' + str(i) + ' is i or u')\n",
        "  else:\n",
        "    print('letter #' + str(i) + ' is not i or u')\n"
      ],
      "execution_count": null,
      "outputs": []
    },
    {
      "cell_type": "code",
      "metadata": {
        "id": "MKTqn_AN7S-Q"
      },
      "source": [
        "# alternative code to the one above\n",
        "s = 'abcdefghi'\n",
        "i = 1\n",
        "for char in s:\n",
        "  if char == 'i' or char == 'u':\n",
        "    print('letter #' + str(i) + ' is i or u')\n",
        "    i += 1\n",
        "  else:\n",
        "    print('letter #' + str(i) + ' is not i or u')\n",
        "    i += 1"
      ],
      "execution_count": null,
      "outputs": []
    },
    {
      "cell_type": "code",
      "metadata": {
        "id": "W2TFMeTeZp8U"
      },
      "source": [
        "L= [2, 4, 8, 9]\n",
        "total = 0\n",
        "for i in range(len(L)):  # recall range(n)\n",
        "  total += L[i]\n",
        "print(total)"
      ],
      "execution_count": null,
      "outputs": []
    },
    {
      "cell_type": "code",
      "metadata": {
        "id": "rU6kZwMtEnP1"
      },
      "source": [
        "# Direclty iterate over the list elements\n",
        "total = 0\n",
        "for i in L:\n",
        "  total += i\n",
        "print(total)"
      ],
      "execution_count": null,
      "outputs": []
    },
    {
      "cell_type": "code",
      "metadata": {
        "id": "Y1n7h_vyJ_HE"
      },
      "source": [
        "thislist = [1, 2, 3]\n",
        "[print(x) for x in thislist]"
      ],
      "execution_count": null,
      "outputs": []
    },
    {
      "cell_type": "markdown",
      "metadata": {
        "id": "Cv61sn-5Kq_x"
      },
      "source": [
        "**Functions**\n",
        "* Characteristics\n",
        "  * has a name\n",
        "  * has parameters\n",
        "  * has a docstring\n",
        "  * has a body"
      ]
    },
    {
      "cell_type": "code",
      "metadata": {
        "id": "WKH3ZTV7HKuP"
      },
      "source": [
        "def is_even(i):\n",
        "  \"\"\"  \n",
        "  input: i, a positive integer\n",
        "  return True if i is even, otherwise False \n",
        "  \"\"\"\n",
        "  \n",
        "  if i%2 == 0:\n",
        "    return 1\n",
        "    \n",
        "  if i%2 != 0:\n",
        "    return 0  \n",
        "    \n",
        "  return i%2 == 0 # only one return executed inside a function. \n",
        "\n",
        "is_even(31)"
      ],
      "execution_count": null,
      "outputs": []
    },
    {
      "cell_type": "code",
      "metadata": {
        "id": "XlJfRI18JFoY"
      },
      "source": [
        ""
      ],
      "execution_count": null,
      "outputs": []
    },
    {
      "cell_type": "code",
      "metadata": {
        "id": "KTsXltJ4QMZ7",
        "colab": {
          "base_uri": "https://localhost:8080/",
          "height": 53
        },
        "outputId": "9fb62e70-503a-4cf9-b577-88f89259e33c"
      },
      "source": [
        "def func_a(): \n",
        "    \"\"\"\n",
        "    \"\"\" \n",
        "    print('inside func_a')  # python returns the value None if no return is give\n",
        "    # return 1\n",
        "\n",
        "print(func_a())\n"
      ],
      "execution_count": null,
      "outputs": [
        {
          "output_type": "stream",
          "text": [
            "inside func_a\n",
            "None\n"
          ],
          "name": "stdout"
        }
      ]
    },
    {
      "cell_type": "code",
      "metadata": {
        "id": "eMC5ue7U6aTA",
        "colab": {
          "base_uri": "https://localhost:8080/",
          "height": 89
        },
        "outputId": "f23286dc-b924-40f9-c71d-7ea405363297"
      },
      "source": [
        "def func_b(y):\n",
        "    print('inside func_b')\n",
        "    return y\n",
        "\n",
        "print(func_b(2))\n",
        "print(5 + func_b(2))"
      ],
      "execution_count": null,
      "outputs": [
        {
          "output_type": "stream",
          "text": [
            "inside func_b\n",
            "2\n",
            "inside func_b\n",
            "7\n"
          ],
          "name": "stdout"
        }
      ]
    },
    {
      "cell_type": "code",
      "metadata": {
        "id": "WMrEIxyNyDcV"
      },
      "source": [
        ""
      ],
      "execution_count": null,
      "outputs": []
    },
    {
      "cell_type": "code",
      "metadata": {
        "id": "qowHKEPh_TGu"
      },
      "source": [
        "# Use tuple to return more than one value from a function\n",
        "def quotient_and_remainder(x, y):\n",
        "  q = x//y\n",
        "  r = x%y\n",
        "  return(q, r)\n",
        "(quot, rem) = quotient_and_remainder(4,5)\n",
        "print(quot, rem)"
      ],
      "execution_count": null,
      "outputs": []
    },
    {
      "cell_type": "code",
      "metadata": {
        "id": "CzHryGApALuj"
      },
      "source": [
        "# iteration over tuples using a function\n",
        "def get_data(aTuple):\n",
        "  nums= ()\n",
        "  words = ()\n",
        "  for t in aTuple:\n",
        "    nums= nums + (t[0],)\n",
        "    if t[1] not in words:\n",
        "      words = words + (t[1],)\n",
        "  min_nums= min(nums)\n",
        "  max_nums= max(nums)\n",
        "  unique_words= len(words)\n",
        "  return(min_nums, max_nums, unique_words, nums, words)\n",
        "\n",
        "(min_nums, max_nums, unique_words, nums, words) = get_data(((4, 'mine'), (5, 'yours'), (3, 'his'), (7, 'mine')))\n",
        "print(nums, words, min_nums, max_nums, unique_words)"
      ],
      "execution_count": null,
      "outputs": []
    },
    {
      "cell_type": "markdown",
      "metadata": {
        "id": "bLqjMV6Hqv9J"
      },
      "source": [
        "**Recursion**\n",
        "* a programming technique where a function calls itself\n",
        "* In programming, goal is to NOT have infinite recursion. Thus one\n",
        "must have 1 or more base cases that are easy to solve. And one must solve the same problem on some other input with the goal of simplifying the larger problem input \n"
      ]
    },
    {
      "cell_type": "code",
      "metadata": {
        "id": "qOWBDoTWrpsm"
      },
      "source": [
        "# Example of multiplication\n",
        "def mult(a, b):\n",
        "  \"\"\"\n",
        "  input: two integers\n",
        "  output: product of the two integers\n",
        "  \"\"\"\n",
        "  if b == 1:\n",
        "    return a\n",
        "  else: \n",
        "    return a + mult(a, b-1)\n",
        "\n",
        "mult(5, 4)"
      ],
      "execution_count": null,
      "outputs": []
    },
    {
      "cell_type": "markdown",
      "metadata": {
        "id": "HmT-epA_sajU"
      },
      "source": [
        "**Some observations about recursion**\n",
        "* each recursive call to a function creates its own scope/environment\n",
        "* bindings of variables in a scope is not changed by recursive call\n",
        "* flow of control passes back to previous scope once function call returns value \n",
        "\n"
      ]
    },
    {
      "cell_type": "code",
      "metadata": {
        "id": "DU-D4_iMtS-u"
      },
      "source": [
        "# Example of Fibonacci numbers\n",
        "def fib(x):\n",
        "  \"\"\"\n",
        "  input: a non-negative integer \n",
        "  output: the xth Fibonacci number\n",
        "  \"\"\"\n",
        "  if x == 0 or x == 1:\n",
        "    return 1\n",
        "  else:\n",
        "    return fib(x-1)+fib(x-2)\n",
        "\n",
        "fib(5)"
      ],
      "execution_count": null,
      "outputs": []
    },
    {
      "cell_type": "code",
      "metadata": {
        "id": "06f5jiB16iAI"
      },
      "source": [
        "# Example of Fibonacci numbers by while loop\n",
        "def fib(x):\n",
        "  \"\"\"\n",
        "  input: a non-negative integer \n",
        "  output: the xth Fibonacci number\n",
        "  \"\"\"\n",
        "  fib = []\n",
        "  fib.append(1)\n",
        "  fib.append(1)\n",
        "  i = 2\n",
        "  while i <= x:\n",
        "    fib.append(fib[i-1] + fib[i-2])\n",
        "    i += 1\n",
        "  return fib\n",
        "\n",
        "  fib(5)\n",
        "\n",
        "fib(5)"
      ],
      "execution_count": null,
      "outputs": []
    },
    {
      "cell_type": "markdown",
      "metadata": {
        "id": "4NMPHpdJftCp"
      },
      "source": [
        "**Exercise**\n",
        "* Write a function to calculate one term in a bionomial distribution function. It will be convinient to first write the factorial function, and call it in the binomial distribution function. \n",
        "* Recall the binomial distribution function is expressed as b(x: n, p) = nCx p^x (1-p)^(n-x), where x, n and p are defined by user input. \n",
        "* The output should look like this for example : \n",
        "  * please enter an integer n: 5\n",
        "  * please enter a probability p: 0.3\n",
        "  * when x = 0, b(0;5,0.3) = 0.17\n",
        "  * when x = 1, b(1;5,0.3) = 0.36\n",
        "  * when x = 2, b(2;5,0.3) = 0.31\n",
        "  * when x = 3, b(3;5,0.3) = 0.13\n",
        "  * when x = 4, b(4;5,0.3) = 0.03\n",
        "  * when x = 5, b(5;5,0.3) = 0.0\n",
        "* Graph the probablity vs n for n = 10, p = 0.2, 0.5 and 0.8 respectively. Submit the three graphs with your homework. "
      ]
    },
    {
      "cell_type": "code",
      "metadata": {
        "id": "h-cVtqBQTmUa"
      },
      "source": [
        "# define fact(n) where input n is a positive integer and the return is the factorial of n. \n",
        "\n",
        "def fact(n):\n",
        "  \"\"\"\n",
        "  input: n, a positive integer\n",
        "  return n factorial\n",
        "  \"\"\"\n",
        "  \n",
        "\n",
        "# define bino(x, n, p) where input n is the size of the data set, x is the # of success, p is the probability of success and the return is the bionomial function. \n",
        "\n",
        "def bino(x, n, p):\n",
        "  \"\"\"\n",
        "  input: n, a positive integer representing the size of the set; x, a positive integer representing the # of success; p, a faction between 0 and 1 repsenting the probablitiy of success in a given trial\n",
        "  return the probability of x successes and n-x failures\n",
        "  \"\"\"\n",
        " \n",
        "\n",
        "# Ask the user to input the size of dataset n and probablity of success p, print the probablity of 0, 1, ..., n successes. \n",
        "\n",
        "\n",
        "# Plot the bionomial distribution\n",
        "import matplotlib.pyplot as plt\n",
        "import numpy as np\n",
        "fig = plt.figure()\n",
        "ax = fig.add_axes([0,0,1,1])\n",
        "# define x data\n",
        "x = \n",
        "# define y data\n",
        "y = \n",
        "\n",
        "# label y axis\n",
        "ax.set_ylabel('Probability')\n",
        "\n",
        "# plot a bar graph using ax.bar(x data, y data)\n",
        "\n",
        "\n",
        "plt.show()\n",
        "\n"
      ],
      "execution_count": null,
      "outputs": []
    }
  ]
}