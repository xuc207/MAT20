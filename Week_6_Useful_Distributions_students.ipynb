{
  "nbformat": 4,
  "nbformat_minor": 0,
  "metadata": {
    "colab": {
      "name": "Week 6_Useful Distributions_students.ipynb",
      "provenance": [],
      "collapsed_sections": [],
      "authorship_tag": "ABX9TyO5v3WIA4eLT5OEQOB9c9OX",
      "include_colab_link": true
    },
    "kernelspec": {
      "name": "python3",
      "display_name": "Python 3"
    }
  },
  "cells": [
    {
      "cell_type": "markdown",
      "metadata": {
        "id": "view-in-github",
        "colab_type": "text"
      },
      "source": [
        "<a href=\"https://colab.research.google.com/github/xuc207/MAT20/blob/main/Week_6_Useful_Distributions_students.ipynb\" target=\"_parent\"><img src=\"https://colab.research.google.com/assets/colab-badge.svg\" alt=\"Open In Colab\"/></a>"
      ]
    },
    {
      "cell_type": "code",
      "metadata": {
        "id": "m6s_vECluY1X",
        "colab": {
          "base_uri": "https://localhost:8080/",
          "height": 279
        },
        "outputId": "dab7593b-5de2-4e4b-ce7d-f0b2331dc42d"
      },
      "source": [
        "from scipy.stats import binom \n",
        "import matplotlib.pyplot as plt \n",
        "# setting the values \n",
        "# of n and p \n",
        "n1 = 100\n",
        "p = 0.15\n",
        "\n",
        "# defining list of r values \n",
        "r_values1 = list(range(n1 + 1)) \n",
        "\n",
        "# list of pmf values \n",
        "dist1 = [binom.pmf(r, n1, p) for r in r_values1 ] \n",
        "\n",
        "# plotting the graph  \n",
        "plt.bar(r_values1, dist1, color = 'green', alpha=0.5, label = 'n = 100, p = 0.15')\n",
        "plt.ylabel('Probability')\n",
        "plt.xlabel('No. of Success')\n",
        "plt.legend(loc=\"upper right\")\n",
        "plt.show()\n"
      ],
      "execution_count": null,
      "outputs": [
        {
          "output_type": "display_data",
          "data": {
            "image/png": "[encoded data removed]",
            "text/plain": [
              "<Figure size 432x288 with 1 Axes>"
            ]
          },
          "metadata": {
            "tags": [],
            "needs_background": "light"
          }
        }
      ]
    },
    {
      "cell_type": "code",
      "metadata": {
        "id": "m4BNESaQIBby",
        "colab": {
          "base_uri": "https://localhost:8080/"
        },
        "outputId": "b429a8f3-6a05-4cc2-dee5-03b21bf2e6a2"
      },
      "source": [
        "from scipy.stats import poisson\n",
        "n = 10\n",
        "p = 0.1\n",
        "x = 2\n",
        "s = poisson.pmf(x, n*p)\n",
        "mean, var, skew, kurt = poisson.stats(s, moments='mvsk')\n",
        "print(mean, var, skew, kurt)\n"
      ],
      "execution_count": null,
      "outputs": [
        {
          "output_type": "stream",
          "name": "stdout",
          "text": [
            "0.18393972058572114 0.18393972058572114 2.331643981597124 5.436563656918091\n"
          ]
        }
      ]
    },
    {
      "cell_type": "markdown",
      "metadata": {
        "id": "6_TMmJKw-jYB"
      },
      "source": [
        "**Exercise 1**\n",
        "  * Plot out a Poisson distribution for n = 100, p = 0.15"
      ]
    },
    {
      "cell_type": "markdown",
      "metadata": {
        "id": "tvqANpTBb-En"
      },
      "source": [
        ""
      ]
    },
    {
      "cell_type": "markdown",
      "metadata": {
        "id": "lX8ZR8KgYrwn"
      },
      "source": [
        "**Exercise 2**\n",
        "* Write a short program to compare the probablity distribution function of binomial distribution and Poisson distribution. Use two sets of values: n = 5, p = 0.1; and n = 20, p = 0.01. Also print out the mean and variance of the two distribution under this two conditions.  Comment about the comparison. "
      ]
    },
    {
      "cell_type": "code",
      "metadata": {
        "id": "r51Iy-AccF9t"
      },
      "source": [
        "from scipy.stats import poisson\n",
        "from scipy.stats import binom \n",
        "\n",
        "# define empty lists for x and the two f(x)\n",
        "\n",
        "# setting the values\n",
        "\n",
        "# defining the list of x values \n",
        "\n",
        "# list of probablity mass functin (pmf) values \n",
        "\n",
        "# calculate the mean and variance\n",
        "\n",
        "# print the calcualted results\n"
      ],
      "execution_count": null,
      "outputs": []
    }
  ]
}